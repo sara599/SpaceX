{
 "cells": [
  {
   "cell_type": "code",
   "execution_count": 1,
   "id": "5af05b73-08b2-40af-9ecd-1f3cf06a23b0",
   "metadata": {},
   "outputs": [],
   "source": [
    "# !pip install mysql-connector-python\n",
    "# !pip install pymysql\n",
    "# !pip show mysql-connector-python"
   ]
  },
  {
   "cell_type": "markdown",
   "id": "ac9a955f-6223-4a3d-92ec-33de931a5d21",
   "metadata": {},
   "source": [
    "#  <font color='#6833FF'> Connect to DataBase</font> "
   ]
  },
  {
   "cell_type": "code",
   "execution_count": 2,
   "id": "372ff4c0-279c-46b4-a07e-db00da4796ec",
   "metadata": {},
   "outputs": [],
   "source": [
    "# import mysql.connector\n",
    "import pandas as pd\n",
    "import mysql.connector\n",
    "from mysql.connector import Error\n"
   ]
  },
  {
   "cell_type": "code",
   "execution_count": 4,
   "id": "508c3e3a-ddf9-414d-aec2-d688ab08a8a7",
   "metadata": {},
   "outputs": [],
   "source": [
    "try:\n",
    "    connection = mysql.connector.connect(\n",
    "        host=\"localhost\",\n",
    "        user=\"root\",\n",
    "        password=\"\",\n",
    "        database=\"\",\n",
    "        autocommit=False\n",
    "    )\n",
    "    print(\"Successfully connected to the database\")\n",
    "except mysql.connector.Error as error:\n",
    "    print(f\"Error connecting to the database: {error}\")"
   ]
  },
  {
   "cell_type": "code",
   "execution_count": null,
   "id": "5aa1afca-ac68-4e74-bdf1-8cd9c69307d1",
   "metadata": {},
   "outputs": [],
   "source": [
    "raise Exception"
   ]
  },
  {
   "cell_type": "markdown",
   "id": "d624ad10-f1cb-419f-8fc1-0a3778f9e6d1",
   "metadata": {},
   "source": [
    "#  <font color='#6833FF'> Buisness Questions</font> "
   ]
  },
  {
   "cell_type": "markdown",
   "id": "783c746c-8af2-427b-b24f-182bc410586c",
   "metadata": {},
   "source": [
    " ### **❓Launch Success Rate**"
   ]
  },
  {
   "cell_type": "code",
   "execution_count": null,
   "id": "4f5307bd-9114-429d-979c-464771397360",
   "metadata": {},
   "outputs": [],
   "source": [
    "# Overall success rate of SpaceX launches:\n",
    "\n",
    "SELECT \n",
    "    COUNT(*) AS total_launches,\n",
    "    SUM(success) AS successful_launches,\n",
    "    (SUM(success) / COUNT(*)) * 100 AS success_rate\n",
    "FROM cleaned_data;"
   ]
  },
  {
   "cell_type": "code",
   "execution_count": null,
   "id": "7147cf1f-1279-43b2-8e31-ed52152ceadc",
   "metadata": {},
   "outputs": [],
   "source": [
    "# Success rate by rocket type:\n",
    "\n",
    "SELECT \n",
    "    rocket,\n",
    "    COUNT(*) AS total_launches,\n",
    "    SUM(success) AS successful_launches,\n",
    "    (SUM(success) / COUNT(*)) * 100 AS success_rate\n",
    "FROM cleaned_data\n",
    "GROUP BY rocket;"
   ]
  },
  {
   "cell_type": "code",
   "execution_count": null,
   "id": "3e9d4f40-ced9-4064-8a5c-b208e813a029",
   "metadata": {},
   "outputs": [],
   "source": []
  },
  {
   "cell_type": "markdown",
   "id": "e3321859-88c3-4423-bd7c-f4be2b80347c",
   "metadata": {},
   "source": [
    " ### **❓Payload Analysis**"
   ]
  },
  {
   "cell_type": "code",
   "execution_count": null,
   "id": "80b601ef-18b5-4361-955f-6939c3fe94d2",
   "metadata": {},
   "outputs": [],
   "source": [
    "# Most common types of payloads launched:\n",
    "\n",
    "SELECT \n",
    "    name_payload, \n",
    "    COUNT(*) AS launch_count\n",
    "FROM cleaned_data\n",
    "GROUP BY name_payload\n",
    "ORDER BY launch_count DESC;"
   ]
  },
  {
   "cell_type": "code",
   "execution_count": null,
   "id": "32a5e91b-5cc2-49b9-9892-21b06d441722",
   "metadata": {},
   "outputs": [],
   "source": [
    "# Mass of payloads affecting success rate:\n",
    "\n",
    "SELECT \n",
    "    mass_kg, \n",
    "    COUNT(*) AS launch_count,\n",
    "    SUM(success) AS successful_launches,\n",
    "    (SUM(success) / COUNT(*)) * 100 AS success_rate\n",
    "FROM cleaned_data\n",
    "GROUP BY mass_kg\n",
    "ORDER BY mass_kg;"
   ]
  },
  {
   "cell_type": "code",
   "execution_count": null,
   "id": "333bb50b-54b2-494a-93f9-c8319febc6be",
   "metadata": {},
   "outputs": [],
   "source": []
  },
  {
   "cell_type": "markdown",
   "id": "0060e593-6092-4289-b435-d7d6578a89ea",
   "metadata": {},
   "source": [
    " ### **❓Temporal Analysis**"
   ]
  },
  {
   "cell_type": "code",
   "execution_count": null,
   "id": "b6682334-ec9d-43a0-b454-ac1001b46187",
   "metadata": {},
   "outputs": [],
   "source": [
    "# Number of launches by year:\n",
    "\n",
    "SELECT \n",
    "    YEAR(date_utc) AS launch_year, \n",
    "    COUNT(*) AS launch_count\n",
    "FROM cleaned_data\n",
    "GROUP BY launch_year\n",
    "ORDER BY launch_year;"
   ]
  },
  {
   "cell_type": "code",
   "execution_count": null,
   "id": "6e494aad-a2f7-4862-aa68-e69e3b4ee7aa",
   "metadata": {},
   "outputs": [],
   "source": [
    "# Launches per month:\n",
    "\n",
    "SELECT \n",
    "    MONTH(date_utc) AS launch_month,\n",
    "    COUNT(*) AS launch_count\n",
    "FROM cleaned_data\n",
    "GROUP BY launch_month\n",
    "ORDER BY launch_month;"
   ]
  },
  {
   "cell_type": "markdown",
   "id": "e3d2465f-b3c2-49ea-82f5-a8bbbd7c4151",
   "metadata": {},
   "source": [
    " ### **❓Customer Analysis**"
   ]
  },
  {
   "cell_type": "code",
   "execution_count": null,
   "id": "62073b82-d5e8-48b8-a505-8950d2acfc73",
   "metadata": {},
   "outputs": [],
   "source": [
    "# Main customers and their launch counts:\n",
    "\n",
    "SELECT \n",
    "    customers, \n",
    "    COUNT(*) AS launch_count\n",
    "FROM cleaned_data\n",
    "GROUP BY customers\n",
    "ORDER BY launch_count DESC;"
   ]
  },
  {
   "cell_type": "code",
   "execution_count": null,
   "id": "2cddd6bf-4c40-43f1-b80b-fcb8454de5bb",
   "metadata": {},
   "outputs": [],
   "source": [
    "# Most frequently used launchpads and their success rates:\n",
    "\n",
    "SELECT \n",
    "    launchpad, \n",
    "    COUNT(*) AS launch_count,\n",
    "    SUM(success) AS successful_launches,\n",
    "    (SUM(success) / COUNT(*)) * 100 AS success_rate\n",
    "FROM cleaned_data\n",
    "GROUP BY launchpad\n",
    "ORDER BY launch_count DESC;"
   ]
  },
  {
   "cell_type": "markdown",
   "id": "8d844c05-bf8d-4f71-90c5-be1e6551bff3",
   "metadata": {},
   "source": [
    " ### **❓Orbit Distribution**"
   ]
  },
  {
   "cell_type": "code",
   "execution_count": null,
   "id": "878dee2f-e9a4-458b-8cb6-2896d43c98b2",
   "metadata": {},
   "outputs": [],
   "source": [
    "# Most common orbits:\n",
    "\n",
    "SELECT \n",
    "    orbit, \n",
    "    COUNT(*) AS launch_count\n",
    "FROM cleaned_data\n",
    "GROUP BY orbit\n",
    "ORDER BY launch_count DESC;"
   ]
  },
  {
   "cell_type": "markdown",
   "id": "53be5f3e-d98d-47c0-9637-2811f2306c09",
   "metadata": {},
   "source": [
    " ### **❓Details and Insights**"
   ]
  },
  {
   "cell_type": "code",
   "execution_count": null,
   "id": "bd0ea285-ec1d-4ffb-b485-d30c61be8b55",
   "metadata": {},
   "outputs": [],
   "source": [
    "# Common issues from the details column:\n",
    "\n",
    "SELECT \n",
    "    details, \n",
    "    COUNT(*) AS issue_count\n",
    "FROM cleaned_data\n",
    "WHERE details IS NOT NULL\n",
    "GROUP BY details\n",
    "ORDER BY issue_count DESC;"
   ]
  },
  {
   "cell_type": "markdown",
   "id": "14e304a2-d231-4ab0-b6d4-f5eb07e78fb6",
   "metadata": {},
   "source": [
    " ### **❓Upcoming Launches**"
   ]
  },
  {
   "cell_type": "code",
   "execution_count": null,
   "id": "ba259b32-5b1f-4ee4-beff-1b43761e394b",
   "metadata": {},
   "outputs": [],
   "source": [
    "# Number of upcoming launches:\n",
    "\n",
    "SELECT \n",
    "    COUNT(*) AS upcoming_launches_count\n",
    "FROM cleaned_data\n",
    "WHERE upcoming = 1;"
   ]
  },
  {
   "cell_type": "code",
   "execution_count": null,
   "id": "1e35957c-8b1a-450b-b806-3eda470d7b52",
   "metadata": {},
   "outputs": [],
   "source": []
  },
  {
   "cell_type": "markdown",
   "id": "ba09bcba-1b16-4b97-b144-24eb9b6e4de2",
   "metadata": {},
   "source": [
    " ### **❓Fairings Reuse**"
   ]
  },
  {
   "cell_type": "code",
   "execution_count": null,
   "id": "9c6dcc7f-8927-4b4a-811f-adb79ab66122",
   "metadata": {},
   "outputs": [],
   "source": [
    "# Impact of reused fairings on success rates:\n",
    "\n",
    "SELECT \n",
    "    fairings_reused, \n",
    "    COUNT(*) AS launch_count,\n",
    "    SUM(success) AS successful_launches,\n",
    "    (SUM(success) / COUNT(*)) * 100 AS success_rate\n",
    "FROM cleaned_data\n",
    "GROUP BY fairings_reused;"
   ]
  },
  {
   "cell_type": "markdown",
   "id": "7d3ee63c-1b21-41b9-b1f1-11757ea99675",
   "metadata": {},
   "source": [
    " ### **❓Data Completeness and Quality**"
   ]
  },
  {
   "cell_type": "code",
   "execution_count": null,
   "id": "522afe0a-40e0-4ddc-bb9a-06fe09d502a5",
   "metadata": {},
   "outputs": [],
   "source": [
    "# Checking for missing values in key columns:\n",
    "\n",
    "SELECT \n",
    "    COUNT(*) AS total_records,\n",
    "    COUNT(name_payload) AS filled_name_payload,\n",
    "    COUNT(mass_kg) AS filled_mass_kg,\n",
    "    COUNT(type) AS filled_type,\n",
    "    COUNT(orbit) AS filled_orbit,\n",
    "    COUNT(customers) AS filled_customers\n",
    "FROM cleaned_data;"
   ]
  },
  {
   "cell_type": "code",
   "execution_count": null,
   "id": "cd5065b1-2f88-425c-abb6-bad965b33125",
   "metadata": {},
   "outputs": [],
   "source": []
  },
  {
   "cell_type": "markdown",
   "id": "b52618fe-7343-4fae-bd9e-935457b062c8",
   "metadata": {},
   "source": [
    "#  <font color='#6833FF'> Load Dataset</font> "
   ]
  }
 ],
 "metadata": {
  "kernelspec": {
   "display_name": "Python 3 (ipykernel)",
   "language": "python",
   "name": "python3"
  },
  "language_info": {
   "codemirror_mode": {
    "name": "ipython",
    "version": 3
   },
   "file_extension": ".py",
   "mimetype": "text/x-python",
   "name": "python",
   "nbconvert_exporter": "python",
   "pygments_lexer": "ipython3",
   "version": "3.12.4"
  }
 },
 "nbformat": 4,
 "nbformat_minor": 5
}
